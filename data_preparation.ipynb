{
 "cells": [
  {
   "cell_type": "code",
   "execution_count": 1,
   "metadata": {},
   "outputs": [],
   "source": [
    "import os\n",
    "import json\n",
    "\n",
    "import cv2\n",
    "import matplotlib.pyplot as plt\n",
    "import numpy as np\n",
    "import pandas as pd\n",
    "\n",
    "from pathlib import Path\n",
    "from IPython.display import display\n",
    "%matplotlib inline"
   ]
  },
  {
   "cell_type": "markdown",
   "metadata": {},
   "source": [
    "## Data Preparation"
   ]
  },
  {
   "cell_type": "code",
   "execution_count": 2,
   "metadata": {},
   "outputs": [],
   "source": [
    "DATASET_DIR = os.path.abspath(\"dataset\")"
   ]
  },
  {
   "cell_type": "markdown",
   "metadata": {},
   "source": [
    "### Create a Pandas Dataframe of the Images"
   ]
  },
  {
   "cell_type": "code",
   "execution_count": 3,
   "metadata": {},
   "outputs": [
    {
     "name": "stdout",
     "output_type": "stream",
     "text": [
      "/mnt/d/Projects/stiki_malang_2022/Chars74k/dataset\n",
      "{0: '0', 1: '1', 2: '2', 3: '3', 4: '4', 5: '5', 6: '6', 7: '7', 8: '8', 9: '9', 10: 'A', 11: 'B', 12: 'C', 13: 'D', 14: 'E', 15: 'F', 16: 'G', 17: 'H', 18: 'I', 19: 'J', 20: 'K', 21: 'L', 22: 'M', 23: 'N', 24: 'O', 25: 'P', 26: 'Q', 27: 'R', 28: 'S', 29: 'T', 30: 'U', 31: 'V', 32: 'W', 33: 'X', 34: 'Y', 35: 'Z', 36: 'a', 37: 'b', 38: 'c', 39: 'd', 40: 'e', 41: 'f', 42: 'g', 43: 'h', 44: 'i', 45: 'j', 46: 'k', 47: 'l', 48: 'm', 49: 'n', 50: 'o', 51: 'p', 52: 'q', 53: 'r', 54: 's', 55: 't', 56: 'u', 57: 'v', 58: 'w', 59: 'x', 60: 'y', 61: 'z'}\n"
     ]
    },
    {
     "data": {
      "text/html": [
       "<div>\n",
       "<style scoped>\n",
       "    .dataframe tbody tr th:only-of-type {\n",
       "        vertical-align: middle;\n",
       "    }\n",
       "\n",
       "    .dataframe tbody tr th {\n",
       "        vertical-align: top;\n",
       "    }\n",
       "\n",
       "    .dataframe thead th {\n",
       "        text-align: right;\n",
       "    }\n",
       "</style>\n",
       "<table border=\"1\" class=\"dataframe\">\n",
       "  <thead>\n",
       "    <tr style=\"text-align: right;\">\n",
       "      <th></th>\n",
       "      <th>class</th>\n",
       "      <th>path</th>\n",
       "      <th>width</th>\n",
       "      <th>height</th>\n",
       "    </tr>\n",
       "  </thead>\n",
       "  <tbody>\n",
       "    <tr>\n",
       "      <th>0</th>\n",
       "      <td>0</td>\n",
       "      <td>English/Img/GoodImg/Bmp/Sample001/img001-00001...</td>\n",
       "      <td>103</td>\n",
       "      <td>96</td>\n",
       "    </tr>\n",
       "    <tr>\n",
       "      <th>1</th>\n",
       "      <td>0</td>\n",
       "      <td>English/Img/GoodImg/Bmp/Sample001/img001-00002...</td>\n",
       "      <td>99</td>\n",
       "      <td>98</td>\n",
       "    </tr>\n",
       "    <tr>\n",
       "      <th>2</th>\n",
       "      <td>0</td>\n",
       "      <td>English/Img/GoodImg/Bmp/Sample001/img001-00003...</td>\n",
       "      <td>86</td>\n",
       "      <td>122</td>\n",
       "    </tr>\n",
       "    <tr>\n",
       "      <th>3</th>\n",
       "      <td>0</td>\n",
       "      <td>English/Img/GoodImg/Bmp/Sample001/img001-00004...</td>\n",
       "      <td>310</td>\n",
       "      <td>471</td>\n",
       "    </tr>\n",
       "    <tr>\n",
       "      <th>4</th>\n",
       "      <td>0</td>\n",
       "      <td>English/Img/GoodImg/Bmp/Sample001/img001-00005...</td>\n",
       "      <td>75</td>\n",
       "      <td>128</td>\n",
       "    </tr>\n",
       "  </tbody>\n",
       "</table>\n",
       "</div>"
      ],
      "text/plain": [
       "   class                                               path  width  height\n",
       "0      0  English/Img/GoodImg/Bmp/Sample001/img001-00001...    103      96\n",
       "1      0  English/Img/GoodImg/Bmp/Sample001/img001-00002...     99      98\n",
       "2      0  English/Img/GoodImg/Bmp/Sample001/img001-00003...     86     122\n",
       "3      0  English/Img/GoodImg/Bmp/Sample001/img001-00004...    310     471\n",
       "4      0  English/Img/GoodImg/Bmp/Sample001/img001-00005...     75     128"
      ]
     },
     "execution_count": 3,
     "metadata": {},
     "output_type": "execute_result"
    }
   ],
   "source": [
    "%cd $DATASET_DIR\n",
    "\n",
    "dataset_path = Path(os.path.join(\"English\", \"Img\", \"GoodImg\", \"Bmp\"))\n",
    "data = []\n",
    "class_names = {}\n",
    "for class_dir in dataset_path.glob(\"Sample*\"):\n",
    "    class_ = int(class_dir.name.lstrip(\"Sample\")) - 1\n",
    "    if class_ not in class_names:\n",
    "        if class_ < 10:\n",
    "            name = str(class_)\n",
    "        elif class_ < 36:\n",
    "            name = chr(class_ + 55)\n",
    "        else:\n",
    "            name = chr(class_ + 61)\n",
    "        class_names[class_] = name\n",
    "    for p in class_dir.glob(\"*.png\"):\n",
    "        img = cv2.imread(str(p), cv2.IMREAD_COLOR)\n",
    "        h, w = img.shape[:2]\n",
    "        data.append({\"class\": class_, \"path\": str(p), \"width\": w, \"height\": h})\n",
    "print(class_names)\n",
    "df = pd.DataFrame(data)\n",
    "df.head()"
   ]
  },
  {
   "cell_type": "code",
   "execution_count": 4,
   "metadata": {},
   "outputs": [
    {
     "data": {
      "text/html": [
       "<div>\n",
       "<style scoped>\n",
       "    .dataframe tbody tr th:only-of-type {\n",
       "        vertical-align: middle;\n",
       "    }\n",
       "\n",
       "    .dataframe tbody tr th {\n",
       "        vertical-align: top;\n",
       "    }\n",
       "\n",
       "    .dataframe thead th {\n",
       "        text-align: right;\n",
       "    }\n",
       "</style>\n",
       "<table border=\"1\" class=\"dataframe\">\n",
       "  <thead>\n",
       "    <tr style=\"text-align: right;\">\n",
       "      <th></th>\n",
       "      <th>class</th>\n",
       "      <th>width</th>\n",
       "      <th>height</th>\n",
       "    </tr>\n",
       "  </thead>\n",
       "  <tbody>\n",
       "    <tr>\n",
       "      <th>count</th>\n",
       "      <td>7705.000000</td>\n",
       "      <td>7705.000000</td>\n",
       "      <td>7705.000000</td>\n",
       "    </tr>\n",
       "    <tr>\n",
       "      <th>mean</th>\n",
       "      <td>25.926671</td>\n",
       "      <td>62.158339</td>\n",
       "      <td>87.173653</td>\n",
       "    </tr>\n",
       "    <tr>\n",
       "      <th>std</th>\n",
       "      <td>14.734662</td>\n",
       "      <td>54.133408</td>\n",
       "      <td>68.230884</td>\n",
       "    </tr>\n",
       "    <tr>\n",
       "      <th>min</th>\n",
       "      <td>0.000000</td>\n",
       "      <td>3.000000</td>\n",
       "      <td>9.000000</td>\n",
       "    </tr>\n",
       "    <tr>\n",
       "      <th>25%</th>\n",
       "      <td>14.000000</td>\n",
       "      <td>27.000000</td>\n",
       "      <td>41.000000</td>\n",
       "    </tr>\n",
       "    <tr>\n",
       "      <th>50%</th>\n",
       "      <td>24.000000</td>\n",
       "      <td>46.000000</td>\n",
       "      <td>68.000000</td>\n",
       "    </tr>\n",
       "    <tr>\n",
       "      <th>75%</th>\n",
       "      <td>35.000000</td>\n",
       "      <td>77.000000</td>\n",
       "      <td>107.000000</td>\n",
       "    </tr>\n",
       "    <tr>\n",
       "      <th>max</th>\n",
       "      <td>61.000000</td>\n",
       "      <td>536.000000</td>\n",
       "      <td>648.000000</td>\n",
       "    </tr>\n",
       "  </tbody>\n",
       "</table>\n",
       "</div>"
      ],
      "text/plain": [
       "             class        width       height\n",
       "count  7705.000000  7705.000000  7705.000000\n",
       "mean     25.926671    62.158339    87.173653\n",
       "std      14.734662    54.133408    68.230884\n",
       "min       0.000000     3.000000     9.000000\n",
       "25%      14.000000    27.000000    41.000000\n",
       "50%      24.000000    46.000000    68.000000\n",
       "75%      35.000000    77.000000   107.000000\n",
       "max      61.000000   536.000000   648.000000"
      ]
     },
     "execution_count": 4,
     "metadata": {},
     "output_type": "execute_result"
    }
   ],
   "source": [
    "df.describe()"
   ]
  },
  {
   "cell_type": "code",
   "execution_count": 5,
   "metadata": {},
   "outputs": [
    {
     "data": {
      "image/png": "[encoded data removed]",
      "text/plain": [
       "<Figure size 640x480 with 1 Axes>"
      ]
     },
     "metadata": {},
     "output_type": "display_data"
    }
   ],
   "source": [
    "df_grp = df.groupby(\"class\", as_index=False)\n",
    "df_counts = df_grp.count()\n",
    "with plt.rc_context({'axes.edgecolor':'orange', 'xtick.color':'orange', 'ytick.color':'orange'}):\n",
    "    plt.bar(df_counts[\"class\"], df_counts[\"path\"])"
   ]
  },
  {
   "cell_type": "code",
   "execution_count": 6,
   "metadata": {},
   "outputs": [],
   "source": [
    "train_dfs, val_dfs, test_dfs = [], [], []\n",
    "\n",
    "for class_i, class_df in df_grp:\n",
    "    train = class_df.sample(frac=0.8, random_state=200) #random state is a seed value\n",
    "    test = class_df.drop(train.index)\n",
    "    val = train.sample(frac=0.125, random_state=200) # 0.125*0.8 = 0.1\n",
    "    train = train.drop(val.index)\n",
    "    train_dfs.append(train)\n",
    "    val_dfs.append(val)\n",
    "    test_dfs.append(test)\n",
    "\n",
    "train = pd.concat(train_dfs).sample(frac=1).reset_index(drop=True)\n",
    "val = pd.concat(val_dfs).sample(frac=1).reset_index(drop=True)\n",
    "test = pd.concat(test_dfs).sample(frac=1).reset_index(drop=True)\n",
    "train.to_csv(\"train.csv\", index=False)\n",
    "val.to_csv(\"val.csv\", index=False)\n",
    "test.to_csv(\"test.csv\", index=False)\n",
    "with open(\"class_names.json\", \"w\") as fp:\n",
    "    json.dump(class_names, fp)"
   ]
  }
 ],
 "metadata": {
  "kernelspec": {
   "display_name": "Python 3.8.10 ('ai_class')",
   "language": "python",
   "name": "python3"
  },
  "language_info": {
   "codemirror_mode": {
    "name": "ipython",
    "version": 3
   },
   "file_extension": ".py",
   "mimetype": "text/x-python",
   "name": "python",
   "nbconvert_exporter": "python",
   "pygments_lexer": "ipython3",
   "version": "3.8.10"
  },
  "orig_nbformat": 4,
  "vscode": {
   "interpreter": {
    "hash": "45806f2a31fc2394908bf2aae38bc8f96498b1e9c39d8308e884e6256764b6c9"
   }
  }
 },
 "nbformat": 4,
 "nbformat_minor": 2
}
